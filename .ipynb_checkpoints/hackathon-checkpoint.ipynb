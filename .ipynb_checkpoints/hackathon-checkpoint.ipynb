{
 "cells": [
  {
   "cell_type": "markdown",
   "metadata": {},
   "source": [
    "##### About the Data\n"
   ]
  },
  {
   "cell_type": "code",
   "execution_count": null,
   "metadata": {},
   "outputs": [],
   "source": []
  },
  {
   "cell_type": "markdown",
   "metadata": {},
   "source": [
    "##### Questions to ask\n",
    "* Dataset 1\n",
    "- Most fatal diseases across the continent.\n",
    "- Are they treatable or non treatable.\n",
    "- Possible solutions to the insights obtained."
   ]
  },
  {
   "cell_type": "code",
   "execution_count": 72,
   "metadata": {},
   "outputs": [],
   "source": [
    "# Importing Libraries\n",
    "import pandas as pd\n",
    "import numpy as np\n",
    "import matplotlib.pyplot as plt\n",
    "import seaborn as sns"
   ]
  },
  {
   "cell_type": "code",
   "execution_count": 73,
   "metadata": {},
   "outputs": [],
   "source": [
    "#Import Dataset 1.\n",
    "df1 = pd.read_csv(\"1. annual-number-of-deaths-by-cause.csv\")"
   ]
  },
  {
   "cell_type": "markdown",
   "metadata": {},
   "source": [
    "##### Data Exploration and Cleaning.\n",
    "- Extract African Countries.\n",
    "- Delete columns with entirely missing data.\n",
    "- Delete unnecessary columns in relation to our visualization."
   ]
  },
  {
   "cell_type": "code",
   "execution_count": 74,
   "metadata": {},
   "outputs": [
    {
     "data": {
      "text/plain": [
       "(30, 36)"
      ]
     },
     "execution_count": 74,
     "metadata": {},
     "output_type": "execute_result"
    }
   ],
   "source": [
    "# Extract African Countries\n",
    "df1 = df1[df1[\"Entity\"] == \"African Region (WHO)\"] \n",
    "df1.shape"
   ]
  },
  {
   "cell_type": "code",
   "execution_count": 75,
   "metadata": {},
   "outputs": [
    {
     "data": {
      "text/plain": [
       "(30, 32)"
      ]
     },
     "execution_count": 75,
     "metadata": {},
     "output_type": "execute_result"
    }
   ],
   "source": [
    "#Dropping Columns with no data as well as unnecessary columns.\n",
    "df1 = df1.drop([\"Entity\",\"Code\", \"Number of executions (Amnesty International)\", \"Terrorism (deaths)\"], axis = 1)\n",
    "df1.shape"
   ]
  },
  {
   "cell_type": "code",
   "execution_count": 76,
   "metadata": {},
   "outputs": [
    {
     "name": "stdout",
     "output_type": "stream",
     "text": [
      "<class 'pandas.core.frame.DataFrame'>\n",
      "Int64Index: 30 entries, 30 to 59\n",
      "Data columns (total 32 columns):\n",
      " #   Column                                      Non-Null Count  Dtype  \n",
      "---  ------                                      --------------  -----  \n",
      " 0   Year                                        30 non-null     int64  \n",
      " 1   Meningitis                                  30 non-null     float64\n",
      " 2   Alzheimer's disease and other dementias     30 non-null     float64\n",
      " 3   Parkinson's disease                         30 non-null     float64\n",
      " 4   Nutritional deficiencies                    30 non-null     float64\n",
      " 5   Malaria                                     30 non-null     float64\n",
      " 6   Drowning                                    30 non-null     float64\n",
      " 7   Interpersonal violence                      30 non-null     float64\n",
      " 8   Maternal disorders                          30 non-null     float64\n",
      " 9   HIV/AIDS                                    30 non-null     float64\n",
      " 10  Drug use disorders                          30 non-null     float64\n",
      " 11  Tuberculosis                                30 non-null     float64\n",
      " 12  Cardiovascular diseases                     30 non-null     float64\n",
      " 13  Lower respiratory infections                30 non-null     float64\n",
      " 14  Neonatal disorders                          30 non-null     float64\n",
      " 15  Alcohol use disorders                       30 non-null     float64\n",
      " 16  Self                                        30 non-null     float64\n",
      " 17  Exposure to forces of nature                30 non-null     float64\n",
      " 18  Diarrheal diseases                          30 non-null     float64\n",
      " 19  Environmental heat and cold exposure        30 non-null     float64\n",
      " 20  Neoplasms                                   30 non-null     float64\n",
      " 21  Conflict and terrorism                      30 non-null     float64\n",
      " 22  Diabetes mellitus                           30 non-null     float64\n",
      " 23  Chronic kidney disease                      30 non-null     float64\n",
      " 24  Poisonings                                  30 non-null     float64\n",
      " 25  Protein                                     30 non-null     float64\n",
      " 26  Road injuries                               30 non-null     float64\n",
      " 27  Chronic respiratory diseases                30 non-null     float64\n",
      " 28  Cirrhosis and other chronic liver diseases  30 non-null     float64\n",
      " 29  Digestive diseases                          30 non-null     float64\n",
      " 30  Fire, heat, and hot substances              30 non-null     float64\n",
      " 31  Acute hepatitis                             30 non-null     float64\n",
      "dtypes: float64(31), int64(1)\n",
      "memory usage: 7.7 KB\n"
     ]
    }
   ],
   "source": [
    "df1.info()"
   ]
  },
  {
   "cell_type": "code",
   "execution_count": 77,
   "metadata": {},
   "outputs": [],
   "source": [
    "df1.to_csv(\"df1.csv\")"
   ]
  },
  {
   "cell_type": "code",
   "execution_count": 78,
   "metadata": {},
   "outputs": [
    {
     "data": {
      "text/html": [
       "<div>\n",
       "<style scoped>\n",
       "    .dataframe tbody tr th:only-of-type {\n",
       "        vertical-align: middle;\n",
       "    }\n",
       "\n",
       "    .dataframe tbody tr th {\n",
       "        vertical-align: top;\n",
       "    }\n",
       "\n",
       "    .dataframe thead th {\n",
       "        text-align: right;\n",
       "    }\n",
       "</style>\n",
       "<table border=\"1\" class=\"dataframe\">\n",
       "  <thead>\n",
       "    <tr style=\"text-align: right;\">\n",
       "      <th></th>\n",
       "      <th>Year</th>\n",
       "      <th>Meningitis</th>\n",
       "      <th>Alzheimer's disease and other dementias</th>\n",
       "      <th>Parkinson's disease</th>\n",
       "      <th>Nutritional deficiencies</th>\n",
       "      <th>Malaria</th>\n",
       "      <th>Drowning</th>\n",
       "      <th>Interpersonal violence</th>\n",
       "      <th>Maternal disorders</th>\n",
       "      <th>HIV/AIDS</th>\n",
       "      <th>...</th>\n",
       "      <th>Diabetes mellitus</th>\n",
       "      <th>Chronic kidney disease</th>\n",
       "      <th>Poisonings</th>\n",
       "      <th>Protein</th>\n",
       "      <th>Road injuries</th>\n",
       "      <th>Chronic respiratory diseases</th>\n",
       "      <th>Cirrhosis and other chronic liver diseases</th>\n",
       "      <th>Digestive diseases</th>\n",
       "      <th>Fire, heat, and hot substances</th>\n",
       "      <th>Acute hepatitis</th>\n",
       "    </tr>\n",
       "  </thead>\n",
       "  <tbody>\n",
       "    <tr>\n",
       "      <th>count</th>\n",
       "      <td>30.000000</td>\n",
       "      <td>30.000000</td>\n",
       "      <td>30.000000</td>\n",
       "      <td>30.000000</td>\n",
       "      <td>30.000000</td>\n",
       "      <td>30.000000</td>\n",
       "      <td>30.000000</td>\n",
       "      <td>30.000000</td>\n",
       "      <td>30.000000</td>\n",
       "      <td>3.000000e+01</td>\n",
       "      <td>...</td>\n",
       "      <td>30.000000</td>\n",
       "      <td>30.000000</td>\n",
       "      <td>30.000000</td>\n",
       "      <td>30.000000</td>\n",
       "      <td>30.000000</td>\n",
       "      <td>30.000000</td>\n",
       "      <td>30.000000</td>\n",
       "      <td>30.000000</td>\n",
       "      <td>30.00000</td>\n",
       "      <td>30.000000</td>\n",
       "    </tr>\n",
       "    <tr>\n",
       "      <th>mean</th>\n",
       "      <td>2004.500000</td>\n",
       "      <td>177512.400000</td>\n",
       "      <td>41739.633333</td>\n",
       "      <td>10618.866667</td>\n",
       "      <td>164695.333333</td>\n",
       "      <td>715423.100000</td>\n",
       "      <td>26726.800000</td>\n",
       "      <td>68566.233333</td>\n",
       "      <td>91357.566667</td>\n",
       "      <td>9.629558e+05</td>\n",
       "      <td>...</td>\n",
       "      <td>120099.700000</td>\n",
       "      <td>92635.266667</td>\n",
       "      <td>18519.966667</td>\n",
       "      <td>159275.100000</td>\n",
       "      <td>161317.633333</td>\n",
       "      <td>152146.833333</td>\n",
       "      <td>152629.000000</td>\n",
       "      <td>258774.433333</td>\n",
       "      <td>21985.80000</td>\n",
       "      <td>17516.633333</td>\n",
       "    </tr>\n",
       "    <tr>\n",
       "      <th>std</th>\n",
       "      <td>8.803408</td>\n",
       "      <td>17299.298713</td>\n",
       "      <td>12566.485045</td>\n",
       "      <td>2860.962531</td>\n",
       "      <td>41903.240847</td>\n",
       "      <td>93021.013313</td>\n",
       "      <td>1023.726438</td>\n",
       "      <td>8033.220472</td>\n",
       "      <td>8115.516044</td>\n",
       "      <td>3.556477e+05</td>\n",
       "      <td>...</td>\n",
       "      <td>29528.220486</td>\n",
       "      <td>18746.031247</td>\n",
       "      <td>559.433919</td>\n",
       "      <td>40589.368284</td>\n",
       "      <td>15835.328642</td>\n",
       "      <td>15901.172132</td>\n",
       "      <td>19943.948539</td>\n",
       "      <td>37397.215541</td>\n",
       "      <td>1361.86306</td>\n",
       "      <td>2067.165450</td>\n",
       "    </tr>\n",
       "    <tr>\n",
       "      <th>min</th>\n",
       "      <td>1990.000000</td>\n",
       "      <td>139590.000000</td>\n",
       "      <td>24312.000000</td>\n",
       "      <td>6573.000000</td>\n",
       "      <td>98704.000000</td>\n",
       "      <td>578326.000000</td>\n",
       "      <td>23768.000000</td>\n",
       "      <td>50714.000000</td>\n",
       "      <td>77668.000000</td>\n",
       "      <td>2.654520e+05</td>\n",
       "      <td>...</td>\n",
       "      <td>74790.000000</td>\n",
       "      <td>64609.000000</td>\n",
       "      <td>17453.000000</td>\n",
       "      <td>94780.000000</td>\n",
       "      <td>130403.000000</td>\n",
       "      <td>123351.000000</td>\n",
       "      <td>119201.000000</td>\n",
       "      <td>198446.000000</td>\n",
       "      <td>19552.00000</td>\n",
       "      <td>13950.000000</td>\n",
       "    </tr>\n",
       "    <tr>\n",
       "      <th>25%</th>\n",
       "      <td>1997.250000</td>\n",
       "      <td>169984.500000</td>\n",
       "      <td>31138.250000</td>\n",
       "      <td>8218.000000</td>\n",
       "      <td>124163.250000</td>\n",
       "      <td>633269.500000</td>\n",
       "      <td>26212.000000</td>\n",
       "      <td>62307.750000</td>\n",
       "      <td>83441.250000</td>\n",
       "      <td>7.160798e+05</td>\n",
       "      <td>...</td>\n",
       "      <td>96923.000000</td>\n",
       "      <td>77499.500000</td>\n",
       "      <td>18052.000000</td>\n",
       "      <td>120083.500000</td>\n",
       "      <td>149041.500000</td>\n",
       "      <td>141368.500000</td>\n",
       "      <td>136284.500000</td>\n",
       "      <td>228284.250000</td>\n",
       "      <td>20767.00000</td>\n",
       "      <td>15532.500000</td>\n",
       "    </tr>\n",
       "    <tr>\n",
       "      <th>50%</th>\n",
       "      <td>2004.500000</td>\n",
       "      <td>181709.500000</td>\n",
       "      <td>39824.500000</td>\n",
       "      <td>10239.000000</td>\n",
       "      <td>166125.500000</td>\n",
       "      <td>717294.500000</td>\n",
       "      <td>27191.000000</td>\n",
       "      <td>70700.500000</td>\n",
       "      <td>92748.000000</td>\n",
       "      <td>9.516035e+05</td>\n",
       "      <td>...</td>\n",
       "      <td>118179.000000</td>\n",
       "      <td>90943.500000</td>\n",
       "      <td>18769.500000</td>\n",
       "      <td>161123.000000</td>\n",
       "      <td>167866.000000</td>\n",
       "      <td>153437.500000</td>\n",
       "      <td>154211.000000</td>\n",
       "      <td>258290.500000</td>\n",
       "      <td>22368.50000</td>\n",
       "      <td>18058.500000</td>\n",
       "    </tr>\n",
       "    <tr>\n",
       "      <th>75%</th>\n",
       "      <td>2011.750000</td>\n",
       "      <td>191247.750000</td>\n",
       "      <td>51470.750000</td>\n",
       "      <td>12937.250000</td>\n",
       "      <td>206552.000000</td>\n",
       "      <td>804388.000000</td>\n",
       "      <td>27379.500000</td>\n",
       "      <td>72630.250000</td>\n",
       "      <td>98933.500000</td>\n",
       "      <td>1.275447e+06</td>\n",
       "      <td>...</td>\n",
       "      <td>143690.250000</td>\n",
       "      <td>106531.750000</td>\n",
       "      <td>18993.000000</td>\n",
       "      <td>199625.250000</td>\n",
       "      <td>172116.750000</td>\n",
       "      <td>163893.750000</td>\n",
       "      <td>168186.250000</td>\n",
       "      <td>287932.000000</td>\n",
       "      <td>22976.25000</td>\n",
       "      <td>19385.500000</td>\n",
       "    </tr>\n",
       "    <tr>\n",
       "      <th>max</th>\n",
       "      <td>2019.000000</td>\n",
       "      <td>196650.000000</td>\n",
       "      <td>66124.000000</td>\n",
       "      <td>15930.000000</td>\n",
       "      <td>217480.000000</td>\n",
       "      <td>841388.000000</td>\n",
       "      <td>27887.000000</td>\n",
       "      <td>82156.000000</td>\n",
       "      <td>101003.000000</td>\n",
       "      <td>1.491641e+06</td>\n",
       "      <td>...</td>\n",
       "      <td>170540.000000</td>\n",
       "      <td>127158.000000</td>\n",
       "      <td>19117.000000</td>\n",
       "      <td>210192.000000</td>\n",
       "      <td>182243.000000</td>\n",
       "      <td>178908.000000</td>\n",
       "      <td>187968.000000</td>\n",
       "      <td>324066.000000</td>\n",
       "      <td>23658.00000</td>\n",
       "      <td>20181.000000</td>\n",
       "    </tr>\n",
       "  </tbody>\n",
       "</table>\n",
       "<p>8 rows × 32 columns</p>\n",
       "</div>"
      ],
      "text/plain": [
       "              Year     Meningitis  Alzheimer's disease and other dementias  \\\n",
       "count    30.000000      30.000000                                30.000000   \n",
       "mean   2004.500000  177512.400000                             41739.633333   \n",
       "std       8.803408   17299.298713                             12566.485045   \n",
       "min    1990.000000  139590.000000                             24312.000000   \n",
       "25%    1997.250000  169984.500000                             31138.250000   \n",
       "50%    2004.500000  181709.500000                             39824.500000   \n",
       "75%    2011.750000  191247.750000                             51470.750000   \n",
       "max    2019.000000  196650.000000                             66124.000000   \n",
       "\n",
       "       Parkinson's disease  Nutritional deficiencies        Malaria  \\\n",
       "count            30.000000                 30.000000      30.000000   \n",
       "mean          10618.866667             164695.333333  715423.100000   \n",
       "std            2860.962531              41903.240847   93021.013313   \n",
       "min            6573.000000              98704.000000  578326.000000   \n",
       "25%            8218.000000             124163.250000  633269.500000   \n",
       "50%           10239.000000             166125.500000  717294.500000   \n",
       "75%           12937.250000             206552.000000  804388.000000   \n",
       "max           15930.000000             217480.000000  841388.000000   \n",
       "\n",
       "           Drowning  Interpersonal violence  Maternal disorders      HIV/AIDS  \\\n",
       "count     30.000000               30.000000           30.000000  3.000000e+01   \n",
       "mean   26726.800000            68566.233333        91357.566667  9.629558e+05   \n",
       "std     1023.726438             8033.220472         8115.516044  3.556477e+05   \n",
       "min    23768.000000            50714.000000        77668.000000  2.654520e+05   \n",
       "25%    26212.000000            62307.750000        83441.250000  7.160798e+05   \n",
       "50%    27191.000000            70700.500000        92748.000000  9.516035e+05   \n",
       "75%    27379.500000            72630.250000        98933.500000  1.275447e+06   \n",
       "max    27887.000000            82156.000000       101003.000000  1.491641e+06   \n",
       "\n",
       "       ...  Diabetes mellitus  Chronic kidney disease    Poisonings  \\\n",
       "count  ...          30.000000               30.000000     30.000000   \n",
       "mean   ...      120099.700000            92635.266667  18519.966667   \n",
       "std    ...       29528.220486            18746.031247    559.433919   \n",
       "min    ...       74790.000000            64609.000000  17453.000000   \n",
       "25%    ...       96923.000000            77499.500000  18052.000000   \n",
       "50%    ...      118179.000000            90943.500000  18769.500000   \n",
       "75%    ...      143690.250000           106531.750000  18993.000000   \n",
       "max    ...      170540.000000           127158.000000  19117.000000   \n",
       "\n",
       "             Protein  Road injuries  Chronic respiratory diseases  \\\n",
       "count      30.000000      30.000000                     30.000000   \n",
       "mean   159275.100000  161317.633333                 152146.833333   \n",
       "std     40589.368284   15835.328642                  15901.172132   \n",
       "min     94780.000000  130403.000000                 123351.000000   \n",
       "25%    120083.500000  149041.500000                 141368.500000   \n",
       "50%    161123.000000  167866.000000                 153437.500000   \n",
       "75%    199625.250000  172116.750000                 163893.750000   \n",
       "max    210192.000000  182243.000000                 178908.000000   \n",
       "\n",
       "       Cirrhosis and other chronic liver diseases  Digestive diseases  \\\n",
       "count                                   30.000000           30.000000   \n",
       "mean                                152629.000000       258774.433333   \n",
       "std                                  19943.948539        37397.215541   \n",
       "min                                 119201.000000       198446.000000   \n",
       "25%                                 136284.500000       228284.250000   \n",
       "50%                                 154211.000000       258290.500000   \n",
       "75%                                 168186.250000       287932.000000   \n",
       "max                                 187968.000000       324066.000000   \n",
       "\n",
       "       Fire, heat, and hot substances  Acute hepatitis  \n",
       "count                        30.00000        30.000000  \n",
       "mean                      21985.80000     17516.633333  \n",
       "std                        1361.86306      2067.165450  \n",
       "min                       19552.00000     13950.000000  \n",
       "25%                       20767.00000     15532.500000  \n",
       "50%                       22368.50000     18058.500000  \n",
       "75%                       22976.25000     19385.500000  \n",
       "max                       23658.00000     20181.000000  \n",
       "\n",
       "[8 rows x 32 columns]"
      ]
     },
     "execution_count": 78,
     "metadata": {},
     "output_type": "execute_result"
    }
   ],
   "source": [
    "df1.describe()"
   ]
  },
  {
   "cell_type": "code",
   "execution_count": 79,
   "metadata": {},
   "outputs": [
    {
     "data": {
      "image/png": "[encoded data removed]",
      "text/plain": [
       "<Figure size 1080x720 with 1 Axes>"
      ]
     },
     "metadata": {},
     "output_type": "display_data"
    }
   ],
   "source": [
    "#Plotting the Diseases\n",
    "plt.figure(figsize = (15,10))\n",
    "plt.style.use(\"ggplot\")\n",
    "plt.plot(df1[\"Year\"], df1[\"Cardiovascular diseases\"], label = \"Cardiovascular diseases\")\n",
    "plt.plot(df1[\"Year\"], df1[\"Malaria\"], label = \"Malaria\")\n",
    "plt.plot(df1[\"Year\"], df1[\"Lower respiratory infections\"], label = \"Lower respiratory infections\")\n",
    "plt.plot(df1[\"Year\"], df1[\"Neonatal disorders\"], label = \"Neonatal disorders\")\n",
    "plt.plot(df1[\"Year\"], df1[\"Diarrheal diseases\"], label = \"Diarrheal diseases\")\n",
    "plt.plot(df1[\"Year\"], df1[\"Neoplasms\"], label = \"Neoplasms\")\n",
    "plt.title(\"Africa's Leading Causes of Death over the Years (1990 - 2020)\")\n",
    "plt.legend(loc='upper center')\n",
    "plt.show()"
   ]
  },
  {
   "cell_type": "markdown",
   "metadata": {},
   "source": [
    "##### Obervations\n",
    "* Majority of the diseases are reducing in fatality for example Malaria, Lower Respiratory Infections and this is due a marked increase in treatment for those diseases.\n",
    "* However diseases that build over time like Cardiovascular diseases, Neoplasms are on the rise due to lactancy by Africans to go for regular checkups.\n",
    "\n",
    "##### NB\n",
    "* The results in the graph do not visualize all the diseases instead the diseases woth the most fatalities and those whose numbers are increasing."
   ]
  },
  {
   "cell_type": "code",
   "execution_count": 80,
   "metadata": {},
   "outputs": [
    {
     "data": {
      "text/plain": [
       "1"
      ]
     },
     "execution_count": 80,
     "metadata": {},
     "output_type": "execute_result"
    }
   ],
   "source": [
    "from subprocess import call\n",
    "call(['python', '-m', 'nbconvert', 'hackathon.ipynb'])"
   ]
  }
 ],
 "metadata": {
  "kernelspec": {
   "display_name": "Python 3 (ipykernel)",
   "language": "python",
   "name": "python3"
  },
  "language_info": {
   "codemirror_mode": {
    "name": "ipython",
    "version": 3
   },
   "file_extension": ".py",
   "mimetype": "text/x-python",
   "name": "python",
   "nbconvert_exporter": "python",
   "pygments_lexer": "ipython3",
   "version": "3.9.7"
  },
  "vscode": {
   "interpreter": {
    "hash": "c08d0096f40165df79958502a2c46d54996fd7312bf62a1eaa8fa8dbdde09077"
   }
  }
 },
 "nbformat": 4,
 "nbformat_minor": 2
}
